{
 "cells": [
  {
   "cell_type": "markdown",
   "metadata": {},
   "source": [
    "# Main Test"
   ]
  },
  {
   "cell_type": "code",
   "execution_count": 1,
   "metadata": {},
   "outputs": [],
   "source": [
    "from model import Model\n",
    "import numpy as np\n",
    "\n",
    "from sklearn.datasets import load_iris\n",
    "iris_X, iris_y = load_iris(return_X_y = True)"
   ]
  },
  {
   "cell_type": "code",
   "execution_count": 2,
   "metadata": {},
   "outputs": [
    {
     "name": "stdout",
     "output_type": "stream",
     "text": [
      "ini adalah loss ke 1 = 2.0037987484554405\n",
      "ini adalah loss ke 2 = 1.9985335029422822\n",
      "ini adalah loss ke 3 = 1.994839348556993\n",
      "ini adalah loss ke 4 = 1.980548546743476\n",
      "ini adalah loss ke 5 = 1.9797752877631658\n",
      "ini adalah loss ke 6 = 1.9797755452699508\n",
      "ini adalah loss ke 7 = 1.9797755929323986\n",
      "ini adalah loss ke 8 = 1.9797755938509805\n",
      "ini adalah loss ke 9 = 1.9797755938755046\n",
      "ini adalah loss ke 10 = 1.979775593876487\n",
      "ini adalah loss ke 11 = 1.979775593876532\n",
      "ini adalah loss ke 12 = 1.9797755938765347\n",
      "ini adalah loss ke 13 = 1.9797755938765347\n",
      "ini adalah loss ke 14 = 1.9797755938765347\n",
      "ini adalah loss ke 15 = 1.9797755938765347\n",
      "ini adalah loss ke 16 = 1.9797755938765347\n",
      "ini adalah loss ke 17 = 1.9797755938765347\n",
      "ini adalah loss ke 18 = 1.9797755938765347\n",
      "ini adalah loss ke 19 = 1.9797755938765347\n",
      "ini adalah loss ke 20 = 1.9797755938765347\n"
     ]
    }
   ],
   "source": [
    "model = Model(\"model.txt\")\n",
    "    \n",
    "mini_batch_X = []\n",
    "mini_batch_y = []\n",
    "batches_X = []\n",
    "batches_y = []\n",
    "\n",
    "for i in range (len(iris_X)):\n",
    "    mini_batch_X.append(iris_X[i])\n",
    "    mini_batch_y.append(iris_y[i])\n",
    "    if (i % model.batch_size == model.batch_size - 1): # isi mini_batch sebanyak batch_size\n",
    "        batches_X.append(mini_batch_X)\n",
    "        batches_y.append(mini_batch_y)\n",
    "        mini_batch_X = []\n",
    "        mini_batch_y = []\n",
    "outputs = model.fit(batches_X, batches_y, 0.1, 1, 20)"
   ]
  }
 ],
 "metadata": {
  "interpreter": {
   "hash": "bc767785ac2a3c93d5117a0daf9ce6e3dfc0992ccaa8c97daff750b2d3ce6b99"
  },
  "kernelspec": {
   "display_name": "venv",
   "language": "python",
   "name": "python3"
  },
  "language_info": {
   "codemirror_mode": {
    "name": "ipython",
    "version": 3
   },
   "file_extension": ".py",
   "mimetype": "text/x-python",
   "name": "python",
   "nbconvert_exporter": "python",
   "pygments_lexer": "ipython3",
   "version": "3.9.7"
  },
  "orig_nbformat": 4
 },
 "nbformat": 4,
 "nbformat_minor": 2
}
