{
 "cells": [
  {
   "cell_type": "markdown",
   "metadata": {},
   "source": [
    "# Main Test"
   ]
  },
  {
   "cell_type": "code",
   "execution_count": 3,
   "metadata": {},
   "outputs": [],
   "source": [
    "from model import Model\n",
    "import numpy as np\n",
    "\n",
    "from sklearn.datasets import load_iris\n",
    "iris_X, iris_y = load_iris(return_X_y = True)"
   ]
  },
  {
   "cell_type": "code",
   "execution_count": 5,
   "metadata": {},
   "outputs": [
    {
     "ename": "ValueError",
     "evalue": "matmul: Input operand 1 has a mismatch in its core dimension 0, with gufunc signature (n?,k),(k,m?)->(n?,m?) (size 3 is different from 6)",
     "output_type": "error",
     "traceback": [
      "\u001b[1;31m---------------------------------------------------------------------------\u001b[0m",
      "\u001b[1;31mValueError\u001b[0m                                Traceback (most recent call last)",
      "\u001b[1;32mc:\\Users\\HP\\Projects\\Tubes_ML\\tubesB\\tubesB_ML.ipynb Cell 3'\u001b[0m in \u001b[0;36m<module>\u001b[1;34m\u001b[0m\n\u001b[0;32m     <a href='vscode-notebook-cell:/c%3A/Users/HP/Projects/Tubes_ML/tubesB/tubesB_ML.ipynb#ch0000002?line=11'>12</a>\u001b[0m         mini_batch_X \u001b[39m=\u001b[39m []\n\u001b[0;32m     <a href='vscode-notebook-cell:/c%3A/Users/HP/Projects/Tubes_ML/tubesB/tubesB_ML.ipynb#ch0000002?line=12'>13</a>\u001b[0m         mini_batch_y \u001b[39m=\u001b[39m []\n\u001b[1;32m---> <a href='vscode-notebook-cell:/c%3A/Users/HP/Projects/Tubes_ML/tubesB/tubesB_ML.ipynb#ch0000002?line=13'>14</a>\u001b[0m model\u001b[39m.\u001b[39;49mfit(batches_X, batches_y, \u001b[39m0.1\u001b[39;49m, \u001b[39m1\u001b[39;49m, \u001b[39m20\u001b[39;49m)\n",
      "File \u001b[1;32mc:\\Users\\HP\\Projects\\Tubes_ML\\tubesB\\model.py:74\u001b[0m, in \u001b[0;36mModel.fit\u001b[1;34m(self, inputarr, target, learningrate, errorthreshold, maxiter)\u001b[0m\n\u001b[0;32m     <a href='file:///c%3A/Users/HP/Projects/Tubes_ML/tubesB/model.py?line=71'>72</a>\u001b[0m \u001b[39mfor\u001b[39;00m _ \u001b[39min\u001b[39;00m \u001b[39mrange\u001b[39m(maxiter):\n\u001b[0;32m     <a href='file:///c%3A/Users/HP/Projects/Tubes_ML/tubesB/model.py?line=72'>73</a>\u001b[0m     \u001b[39mfor\u001b[39;00m i \u001b[39min\u001b[39;00m \u001b[39mrange\u001b[39m (\u001b[39mlen\u001b[39m(inputarr)):\n\u001b[1;32m---> <a href='file:///c%3A/Users/HP/Projects/Tubes_ML/tubesB/model.py?line=73'>74</a>\u001b[0m         output \u001b[39m=\u001b[39m \u001b[39mself\u001b[39;49m\u001b[39m.\u001b[39;49mdoffnn(inputarr[i])\n\u001b[0;32m     <a href='file:///c%3A/Users/HP/Projects/Tubes_ML/tubesB/model.py?line=74'>75</a>\u001b[0m     \u001b[39m# loss = self.crossentropy(output) if (self.model[-1].activation_function_type==\"softmax\") else self.sumsquarederror(output,target)\u001b[39;00m\n\u001b[0;32m     <a href='file:///c%3A/Users/HP/Projects/Tubes_ML/tubesB/model.py?line=75'>76</a>\u001b[0m     \u001b[39m# if loss <= errorthreshold:\u001b[39;00m\n\u001b[0;32m     <a href='file:///c%3A/Users/HP/Projects/Tubes_ML/tubesB/model.py?line=76'>77</a>\u001b[0m     \u001b[39m#     return output, loss          \u001b[39;00m\n\u001b[0;32m     <a href='file:///c%3A/Users/HP/Projects/Tubes_ML/tubesB/model.py?line=77'>78</a>\u001b[0m     \u001b[39mself\u001b[39m\u001b[39m.\u001b[39mdobackwardpropagation(learningrate, target)\n",
      "File \u001b[1;32mc:\\Users\\HP\\Projects\\Tubes_ML\\tubesB\\model.py:59\u001b[0m, in \u001b[0;36mModel.doffnn\u001b[1;34m(self, inputarr)\u001b[0m\n\u001b[0;32m     <a href='file:///c%3A/Users/HP/Projects/Tubes_ML/tubesB/model.py?line=56'>57</a>\u001b[0m     bias \u001b[39m=\u001b[39m [\u001b[39m1\u001b[39m]\u001b[39m*\u001b[39m\u001b[39mlen\u001b[39m(arr[\u001b[39m0\u001b[39m])\n\u001b[0;32m     <a href='file:///c%3A/Users/HP/Projects/Tubes_ML/tubesB/model.py?line=57'>58</a>\u001b[0m     arr \u001b[39m=\u001b[39m np\u001b[39m.\u001b[39mappend([bias],arr,\u001b[39m0\u001b[39m)\n\u001b[1;32m---> <a href='file:///c%3A/Users/HP/Projects/Tubes_ML/tubesB/model.py?line=58'>59</a>\u001b[0m     arr \u001b[39m=\u001b[39m layer\u001b[39m.\u001b[39;49mcalculate_all(np\u001b[39m.\u001b[39;49mtranspose(arr))\n\u001b[0;32m     <a href='file:///c%3A/Users/HP/Projects/Tubes_ML/tubesB/model.py?line=59'>60</a>\u001b[0m \u001b[39mreturn\u001b[39;00m arr\n",
      "File \u001b[1;32mc:\\Users\\HP\\Projects\\Tubes_ML\\tubesB\\layer.py:16\u001b[0m, in \u001b[0;36mLayer.calculate_all\u001b[1;34m(self, arr_input)\u001b[0m\n\u001b[0;32m     <a href='file:///c%3A/Users/HP/Projects/Tubes_ML/tubesB/layer.py?line=13'>14</a>\u001b[0m \u001b[39mfor\u001b[39;00m i \u001b[39min\u001b[39;00m \u001b[39mrange\u001b[39m (\u001b[39mlen\u001b[39m(\u001b[39mself\u001b[39m\u001b[39m.\u001b[39marray_of_perceptron)):\n\u001b[0;32m     <a href='file:///c%3A/Users/HP/Projects/Tubes_ML/tubesB/layer.py?line=14'>15</a>\u001b[0m     perceptron \u001b[39m=\u001b[39m \u001b[39mself\u001b[39m\u001b[39m.\u001b[39marray_of_perceptron[i]\n\u001b[1;32m---> <a href='file:///c%3A/Users/HP/Projects/Tubes_ML/tubesB/layer.py?line=15'>16</a>\u001b[0m     output \u001b[39m=\u001b[39m perceptron\u001b[39m.\u001b[39;49mcalculate(arr_input, \u001b[39mself\u001b[39;49m\u001b[39m.\u001b[39;49mactivation_function_type)\n\u001b[0;32m     <a href='file:///c%3A/Users/HP/Projects/Tubes_ML/tubesB/layer.py?line=16'>17</a>\u001b[0m     \u001b[39m# print(\"ini output di calculate all\")\u001b[39;00m\n\u001b[0;32m     <a href='file:///c%3A/Users/HP/Projects/Tubes_ML/tubesB/layer.py?line=17'>18</a>\u001b[0m     output_array\u001b[39m.\u001b[39mappend(output)\n",
      "File \u001b[1;32mc:\\Users\\HP\\Projects\\Tubes_ML\\tubesB\\perceptron.py:17\u001b[0m, in \u001b[0;36mPerceptron.calculate\u001b[1;34m(self, arr, actifunct)\u001b[0m\n\u001b[0;32m     <a href='file:///c%3A/Users/HP/Projects/Tubes_ML/tubesB/perceptron.py?line=14'>15</a>\u001b[0m \u001b[39mdef\u001b[39;00m \u001b[39mcalculate\u001b[39m(\u001b[39mself\u001b[39m, arr, actifunct):\n\u001b[0;32m     <a href='file:///c%3A/Users/HP/Projects/Tubes_ML/tubesB/perceptron.py?line=15'>16</a>\u001b[0m     \u001b[39mself\u001b[39m\u001b[39m.\u001b[39minputs \u001b[39m=\u001b[39m arr\n\u001b[1;32m---> <a href='file:///c%3A/Users/HP/Projects/Tubes_ML/tubesB/perceptron.py?line=16'>17</a>\u001b[0m     res \u001b[39m=\u001b[39m np\u001b[39m.\u001b[39;49mmatmul(arr, \u001b[39mself\u001b[39;49m\u001b[39m.\u001b[39;49mweights)\n\u001b[0;32m     <a href='file:///c%3A/Users/HP/Projects/Tubes_ML/tubesB/perceptron.py?line=17'>18</a>\u001b[0m     \u001b[39mif\u001b[39;00m (actifunct \u001b[39m==\u001b[39m \u001b[39m\"\u001b[39m\u001b[39mlinear\u001b[39m\u001b[39m\"\u001b[39m):\n\u001b[0;32m     <a href='file:///c%3A/Users/HP/Projects/Tubes_ML/tubesB/perceptron.py?line=18'>19</a>\u001b[0m         \u001b[39mself\u001b[39m\u001b[39m.\u001b[39moutputs \u001b[39m=\u001b[39m res\n",
      "\u001b[1;31mValueError\u001b[0m: matmul: Input operand 1 has a mismatch in its core dimension 0, with gufunc signature (n?,k),(k,m?)->(n?,m?) (size 3 is different from 6)"
     ]
    }
   ],
   "source": [
    "model = Model(\"model.txt\")\n",
    "    \n",
    "    mini_batch_X = []\n",
    "    mini_batch_y = []\n",
    "    batches_X = []\n",
    "    batches_y = []\n",
    "    \n",
    "    for i in range (len(iris_X)):\n",
    "        mini_batch_X.append(iris_X[i])\n",
    "        mini_batch_y.append(iris_y[i])\n",
    "        if (i % model.batch_size == model.batch_size - 1): # isi mini_batch sebanyak batch_size\n",
    "            batches_X.append(mini_batch_X)\n",
    "            batches_y.append(mini_batch_y)\n",
    "            mini_batch_X = []\n",
    "            mini_batch_y = []\n",
    "    model.fit(batches_X, batches_y, 0.1, 1, 20)"
   ]
  }
 ],
 "metadata": {
  "interpreter": {
   "hash": "bc767785ac2a3c93d5117a0daf9ce6e3dfc0992ccaa8c97daff750b2d3ce6b99"
  },
  "kernelspec": {
   "display_name": "venv",
   "language": "python",
   "name": "venv"
  },
  "language_info": {
   "codemirror_mode": {
    "name": "ipython",
    "version": 3
   },
   "file_extension": ".py",
   "mimetype": "text/x-python",
   "name": "python",
   "nbconvert_exporter": "python",
   "pygments_lexer": "ipython3",
   "version": "3.10.2"
  },
  "orig_nbformat": 4
 },
 "nbformat": 4,
 "nbformat_minor": 2
}
