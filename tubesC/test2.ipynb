{
 "cells": [
  {
   "cell_type": "code",
   "execution_count": 56,
   "metadata": {},
   "outputs": [],
   "source": [
    "from model import Model\n",
    "import numpy as np\n",
    "from sklearn.utils import shuffle\n",
    "\n",
    "from sklearn.datasets import load_iris\n",
    "iris_X, iris_y = load_iris(return_X_y = True)\n",
    "# iris_X, iris_y = shuffle(iris_X, iris_y, random_state=0)"
   ]
  },
  {
   "cell_type": "code",
   "execution_count": 57,
   "metadata": {},
   "outputs": [
    {
     "name": "stdout",
     "output_type": "stream",
     "text": [
      "ini adalah loss ke 1 = 2.0037987484554405\n",
      "ini adalah loss ke 2 = 1.9985335029422826\n",
      "ini adalah loss ke 3 = 1.9948393485569926\n",
      "ini adalah loss ke 4 = 1.980548546743476\n",
      "ini adalah loss ke 5 = 1.9797752877631658\n",
      "ini adalah loss ke 6 = 1.9797755452699508\n",
      "ini adalah loss ke 7 = 1.9797755929323986\n",
      "ini adalah loss ke 8 = 1.9797755938509805\n",
      "ini adalah loss ke 9 = 1.9797755938755046\n",
      "ini adalah loss ke 10 = 1.979775593876487\n",
      "ini adalah loss ke 11 = 1.979775593876532\n",
      "ini adalah loss ke 12 = 1.9797755938765347\n",
      "ini adalah loss ke 13 = 1.9797755938765347\n",
      "ini adalah loss ke 14 = 1.9797755938765347\n",
      "ini adalah loss ke 15 = 1.9797755938765347\n",
      "ini adalah loss ke 16 = 1.9797755938765347\n",
      "ini adalah loss ke 17 = 1.9797755938765347\n",
      "ini adalah loss ke 18 = 1.9797755938765347\n",
      "ini adalah loss ke 19 = 1.9797755938765347\n",
      "ini adalah loss ke 20 = 1.9797755938765347\n"
     ]
    }
   ],
   "source": [
    "model = Model(\"model.txt\")\n",
    "    \n",
    "mini_batch_X = []\n",
    "mini_batch_y = []\n",
    "batches_X = []\n",
    "batches_y = []\n",
    "\n",
    "for i in range (len(iris_X)):\n",
    "    mini_batch_X.append(iris_X[i])\n",
    "    mini_batch_y.append(iris_y[i])\n",
    "    if (i % model.batch_size == model.batch_size - 1): # isi mini_batch sebanyak batch_size\n",
    "        batches_X.append(mini_batch_X)\n",
    "        batches_y.append(mini_batch_y)\n",
    "        mini_batch_X = []\n",
    "        mini_batch_y = []\n",
    "outputs = model.fit(batches_X, batches_y, 0.1, 1, 20)"
   ]
  },
  {
   "cell_type": "code",
   "execution_count": 109,
   "metadata": {},
   "outputs": [],
   "source": [
    "def confusion_matrix_scratch(true, pred):\n",
    "\n",
    "  N = len(set(true))\n",
    "  indexnum = [i for i in range(N)]\n",
    "  key =[\"{}{}\".format(x,y) for x in indexnum for y in indexnum]\n",
    "  temp = dict((el,0) for el in key)  \n",
    "  for i in range(len(true)):\n",
    "    key = \"{}{}\".format(true[i],pred[i])\n",
    "    if key in temp:\n",
    "      temp[key] +=1\n",
    "    else :\n",
    "      temp[key] = 1\n",
    "  reslist = list(temp.values())\n",
    "  return np.array([reslist[x:x+N] for x in range(0, len(reslist), N)])\n",
    "\n",
    "\n",
    "def accuracy(true,pred):\n",
    "  count =0\n",
    "  for i in range (len(true)):\n",
    "    count += 1 if(true[i]==pred[i]) else 0 \n",
    "  return count/len(true)"
   ]
  },
  {
   "cell_type": "code",
   "execution_count": 104,
   "metadata": {},
   "outputs": [
    {
     "data": {
      "text/plain": [
       "array([[35, 10,  5],\n",
       "       [10, 40,  0],\n",
       "       [ 0, 10, 40]])"
      ]
     },
     "execution_count": 104,
     "metadata": {},
     "output_type": "execute_result"
    }
   ],
   "source": [
    "pred = np.concatenate(outputs, axis=0) \n",
    "pred = np.round(pred)\n",
    "pred = pred.astype(int)\n",
    "confusion_matrix_scratch(iris_y,pred)"
   ]
  },
  {
   "cell_type": "code",
   "execution_count": 110,
   "metadata": {},
   "outputs": [
    {
     "data": {
      "text/plain": [
       "0.7666666666666667"
      ]
     },
     "execution_count": 110,
     "metadata": {},
     "output_type": "execute_result"
    }
   ],
   "source": [
    "accuracy(iris_y,pred)"
   ]
  },
  {
   "cell_type": "code",
   "execution_count": 111,
   "metadata": {},
   "outputs": [
    {
     "data": {
      "text/plain": [
       "0.7666666666666667"
      ]
     },
     "execution_count": 111,
     "metadata": {},
     "output_type": "execute_result"
    }
   ],
   "source": [
    "from sklearn.metrics import accuracy_score\n",
    "accuracy_score(iris_y,pred)"
   ]
  },
  {
   "cell_type": "code",
   "execution_count": 105,
   "metadata": {},
   "outputs": [
    {
     "data": {
      "text/plain": [
       "array([[35, 10,  5],\n",
       "       [10, 40,  0],\n",
       "       [ 0, 10, 40]], dtype=int64)"
      ]
     },
     "execution_count": 105,
     "metadata": {},
     "output_type": "execute_result"
    }
   ],
   "source": [
    "from sklearn.metrics import confusion_matrix\n",
    "confusion_matrix(iris_y,pred)"
   ]
  },
  {
   "cell_type": "code",
   "execution_count": 120,
   "metadata": {},
   "outputs": [],
   "source": [
    "def weight_f1score(arr):\n",
    "    N = len(set(arr))\n",
    "    temp = [0]*N\n",
    "    for i in range(len(arr)):\n",
    "        temp[arr[i]] +=1\n",
    "    return temp"
   ]
  },
  {
   "cell_type": "code",
   "execution_count": 121,
   "metadata": {},
   "outputs": [
    {
     "data": {
      "text/plain": [
       "[50, 50, 50]"
      ]
     },
     "execution_count": 121,
     "metadata": {},
     "output_type": "execute_result"
    }
   ],
   "source": [
    "weight_f1score(iris_y)"
   ]
  },
  {
   "cell_type": "code",
   "execution_count": null,
   "metadata": {},
   "outputs": [],
   "source": []
  },
  {
   "cell_type": "code",
   "execution_count": null,
   "metadata": {},
   "outputs": [],
   "source": []
  },
  {
   "cell_type": "code",
   "execution_count": null,
   "metadata": {},
   "outputs": [],
   "source": []
  }
 ],
 "metadata": {
  "interpreter": {
   "hash": "edc21c5a34ac2fc55a67b6915f2492b5b6eacf8caff7b171695b2ce893d4b5a1"
  },
  "kernelspec": {
   "display_name": "Python 3.9.7 64-bit",
   "language": "python",
   "name": "python3"
  },
  "language_info": {
   "codemirror_mode": {
    "name": "ipython",
    "version": 3
   },
   "file_extension": ".py",
   "mimetype": "text/x-python",
   "name": "python",
   "nbconvert_exporter": "python",
   "pygments_lexer": "ipython3",
   "version": "3.9.7"
  },
  "orig_nbformat": 4
 },
 "nbformat": 4,
 "nbformat_minor": 2
}
