{
 "cells": [
  {
   "cell_type": "code",
   "execution_count": 148,
   "metadata": {},
   "outputs": [],
   "source": [
    "import numpy as np\n",
    "from sklearn.metrics import confusion_matrix, accuracy_score, precision_score, recall_score, f1_score\n",
    "\n",
    "from sklearn.datasets import load_iris\n",
    "iris_X, iris_y = load_iris(return_X_y = True)"
   ]
  },
  {
   "cell_type": "code",
   "execution_count": 149,
   "metadata": {},
   "outputs": [],
   "source": [
    "def zero_division(n, d, div):\n",
    "    if (d == 0):\n",
    "        return div\n",
    "    else:\n",
    "        return n / d"
   ]
  },
  {
   "cell_type": "code",
   "execution_count": 150,
   "metadata": {},
   "outputs": [],
   "source": [
    "def weighted_recall(confMatrix, samples, zero_div):\n",
    "    rec_arr = recall(confMatrix, zero_div)\n",
    "    \n",
    "    w_rec = 0\n",
    "    sum = 0\n",
    "    for i in range(len(rec_arr)):\n",
    "        w_rec = w_rec + rec_arr[i] * samples[i]\n",
    "        sum = sum + samples[i]\n",
    "    \n",
    "    return zero_division(w_rec, sum, zero_div)"
   ]
  },
  {
   "cell_type": "code",
   "execution_count": 151,
   "metadata": {},
   "outputs": [],
   "source": [
    "def recall(confMatrix, zero_div):\n",
    "    rec_arr = []\n",
    "    for i in range(len(confMatrix)):\n",
    "        sum = 0\n",
    "        for j in range(len(confMatrix)):\n",
    "            sum = sum + confMatrix[i][j]\n",
    "        rec_arr.append(zero_division(confMatrix[i][i], sum, zero_div))\n",
    "        \n",
    "    return rec_arr"
   ]
  },
  {
   "cell_type": "code",
   "execution_count": 152,
   "metadata": {},
   "outputs": [],
   "source": [
    "def weighted_precision(confMatrix, samples, zero_div):\n",
    "    prec_arr = precision(confMatrix, zero_div)\n",
    "    w_prec = 0\n",
    "    sum = 0\n",
    "    for i in range(len(prec_arr)):\n",
    "        w_prec = w_prec + prec_arr[i] * samples[i]\n",
    "        sum = sum + samples[i]\n",
    "    \n",
    "    return zero_division(w_prec, sum, zero_div)"
   ]
  },
  {
   "cell_type": "code",
   "execution_count": 153,
   "metadata": {},
   "outputs": [],
   "source": [
    "def precision(confMatrix, zero_div):\n",
    "    prec_arr = []\n",
    "    for i in range(len(confMatrix)):\n",
    "        sum = 0\n",
    "        for j in range(len(confMatrix)):\n",
    "            sum = sum + confMatrix[j][i]\n",
    "        prec_arr.append(zero_division(confMatrix[i][i], sum, zero_div))\n",
    "        \n",
    "    return prec_arr"
   ]
  },
  {
   "cell_type": "code",
   "execution_count": 154,
   "metadata": {},
   "outputs": [],
   "source": [
    "def weighted_f1(confMatrix, samples, zero_div):\n",
    "    prec_arr = precision(confMatrix)\n",
    "    rec_arr = recall(confMatrix)\n",
    "    f1_arr = f1_scratch(prec_arr, rec_arr)\n",
    "\n",
    "    w_f1 = 0\n",
    "    sum = 0\n",
    "    for i in range(len(f1_arr)):\n",
    "        w_f1 = w_f1 + f1_arr[i] * samples[i]\n",
    "        sum = sum + samples[i]\n",
    "    \n",
    "    return zero_div(w_f1, sum, zero_div)"
   ]
  },
  {
   "cell_type": "code",
   "execution_count": 155,
   "metadata": {},
   "outputs": [],
   "source": [
    "def f1_scratch(prec, rec):\n",
    "    f1_arr = []\n",
    "    for i in range(len(prec)):\n",
    "        f1 = zero_division(2 * prec[i] * rec[i], (prec[i] + rec[i]))\n",
    "        f1_arr.append(f1)\n",
    "        \n",
    "    return f1_arr"
   ]
  },
  {
   "cell_type": "code",
   "execution_count": 156,
   "metadata": {},
   "outputs": [
    {
     "data": {
      "text/plain": [
       "0.7222222222222222"
      ]
     },
     "execution_count": 156,
     "metadata": {},
     "output_type": "execute_result"
    }
   ],
   "source": [
    "y_true = [2, 0, 2, 2, 0, 1]\n",
    "y_pred = [0, 0, 2, 2, 0, 2]\n",
    "f1 = precision_score(y_true, y_pred, average='weighted', zero_division=1)\n",
    "f1"
   ]
  },
  {
   "cell_type": "code",
   "execution_count": 157,
   "metadata": {},
   "outputs": [
    {
     "name": "stdout",
     "output_type": "stream",
     "text": [
      "0.7222222222222222\n"
     ]
    }
   ],
   "source": [
    "confusion = [[2, 0, 0], [0, 0, 1], [1, 0, 2]]\n",
    "samples = [2, 1, 3]\n",
    "print(weighted_precision(confusion, samples, 1))"
   ]
  }
 ],
 "metadata": {
  "interpreter": {
   "hash": "2be5faf79681da6f2a61fdfdd5405d65d042280f7fba6178067603e3a2925119"
  },
  "kernelspec": {
   "display_name": "Python 3.10.0 64-bit",
   "language": "python",
   "name": "python3"
  },
  "language_info": {
   "codemirror_mode": {
    "name": "ipython",
    "version": 3
   },
   "file_extension": ".py",
   "mimetype": "text/x-python",
   "name": "python",
   "nbconvert_exporter": "python",
   "pygments_lexer": "ipython3",
   "version": "3.10.0"
  },
  "orig_nbformat": 4
 },
 "nbformat": 4,
 "nbformat_minor": 2
}
