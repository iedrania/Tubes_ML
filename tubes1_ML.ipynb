{
 "cells": [
  {
   "cell_type": "markdown",
   "metadata": {},
   "source": [
    "# Main Test"
   ]
  },
  {
   "cell_type": "code",
   "execution_count": 10,
   "metadata": {},
   "outputs": [],
   "source": [
    "from model import Model\n",
    "import numpy as np"
   ]
  },
  {
   "cell_type": "markdown",
   "metadata": {},
   "source": [
    "## Model Sigmoid"
   ]
  },
  {
   "cell_type": "code",
   "execution_count": 19,
   "metadata": {},
   "outputs": [],
   "source": [
    "model = Model(\"model.txt\")"
   ]
  },
  {
   "cell_type": "code",
   "execution_count": 20,
   "metadata": {},
   "outputs": [
    {
     "name": "stdout",
     "output_type": "stream",
     "text": [
      "Berikut merupakan struktur dari model:\n",
      "Layer 0:\n",
      "Activation Function: sigmoid\n",
      "  Perceptron 0:\n",
      "   Weight 0: -10\n",
      "   Weight 1: 20\n",
      "   Weight 2: 20\n",
      "  Perceptron 1:\n",
      "   Weight 0: 30\n",
      "   Weight 1: -20\n",
      "   Weight 2: -20\n",
      "Layer 1:\n",
      "Activation Function: sigmoid\n",
      "  Perceptron 0:\n",
      "   Weight 0: -30\n",
      "   Weight 1: 20\n",
      "   Weight 2: 20\n",
      "\n"
     ]
    }
   ],
   "source": [
    "print(model)"
   ]
  },
  {
   "cell_type": "code",
   "execution_count": 22,
   "metadata": {},
   "outputs": [
    {
     "data": {
      "text/plain": [
       "array([[0.99995452]])"
      ]
     },
     "execution_count": 22,
     "metadata": {},
     "output_type": "execute_result"
    }
   ],
   "source": [
    "array_input = [[0],[1]]\n",
    "model.doffnn(array_input)"
   ]
  },
  {
   "cell_type": "code",
   "execution_count": 21,
   "metadata": {},
   "outputs": [
    {
     "data": {
      "text/plain": [
       "array([[4.54391049e-05, 9.99954520e-01, 9.99954520e-01, 4.54391049e-05]])"
      ]
     },
     "execution_count": 21,
     "metadata": {},
     "output_type": "execute_result"
    }
   ],
   "source": [
    "arr1 = np.array([0,0,1,1])\n",
    "arr2 = np.array([0,1,0,1])\n",
    "array_input = np.array([arr1, arr2])\n",
    "model.doffnn(array_input)"
   ]
  },
  {
   "cell_type": "markdown",
   "metadata": {},
   "source": [
    "## Model Relu Linier"
   ]
  },
  {
   "cell_type": "code",
   "execution_count": 23,
   "metadata": {},
   "outputs": [
    {
     "name": "stdout",
     "output_type": "stream",
     "text": [
      "Berikut merupakan struktur dari model:\n",
      "Layer 0:\n",
      "Activation Function: relu\n",
      "  Perceptron 0:\n",
      "   Weight 0: 0\n",
      "   Weight 1: 1\n",
      "   Weight 2: 1\n",
      "  Perceptron 1:\n",
      "   Weight 0: -1\n",
      "   Weight 1: 1\n",
      "   Weight 2: 1\n",
      "Layer 1:\n",
      "Activation Function: linear\n",
      "  Perceptron 0:\n",
      "   Weight 0: 0\n",
      "   Weight 1: 1\n",
      "   Weight 2: -2\n",
      "\n"
     ]
    }
   ],
   "source": [
    "model1 = Model(\"model_relu.txt\")\n",
    "print(model1)"
   ]
  },
  {
   "cell_type": "code",
   "execution_count": 25,
   "metadata": {},
   "outputs": [
    {
     "data": {
      "text/plain": [
       "array([[1]])"
      ]
     },
     "execution_count": 25,
     "metadata": {},
     "output_type": "execute_result"
    }
   ],
   "source": [
    "array_input = [[0],[1]]\n",
    "model1.doffnn(array_input)"
   ]
  },
  {
   "cell_type": "code",
   "execution_count": 26,
   "metadata": {},
   "outputs": [
    {
     "data": {
      "text/plain": [
       "array([[0, 1, 1, 0]])"
      ]
     },
     "execution_count": 26,
     "metadata": {},
     "output_type": "execute_result"
    }
   ],
   "source": [
    "arr1 = np.array([0,0,1,1])\n",
    "arr2 = np.array([0,1,0,1])\n",
    "array_input = np.array([arr1, arr2])\n",
    "model1.doffnn(array_input)"
   ]
  }
 ],
 "metadata": {
  "interpreter": {
   "hash": "bc767785ac2a3c93d5117a0daf9ce6e3dfc0992ccaa8c97daff750b2d3ce6b99"
  },
  "kernelspec": {
   "display_name": "Python 3.9.7 ('base')",
   "language": "python",
   "name": "python3"
  },
  "language_info": {
   "codemirror_mode": {
    "name": "ipython",
    "version": 3
   },
   "file_extension": ".py",
   "mimetype": "text/x-python",
   "name": "python",
   "nbconvert_exporter": "python",
   "pygments_lexer": "ipython3",
   "version": "3.9.7"
  },
  "orig_nbformat": 4
 },
 "nbformat": 4,
 "nbformat_minor": 2
}
